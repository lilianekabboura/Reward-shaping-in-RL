{
 "cells": [
  {
   "cell_type": "code",
   "execution_count": 17,
   "metadata": {},
   "outputs": [],
   "source": [
    "import pandas as pd\n",
    "import matplotlib.pyplot as plt"
   ]
  },
  {
   "cell_type": "code",
   "execution_count": 18,
   "metadata": {},
   "outputs": [],
   "source": [
    "'''Choose environment name'''\n",
    "env_name = 'Acrobot-v1'\n",
    "#env_name = 'MountainCar-v0'\n",
    "#env_name = 'LunarLander-v2'\n",
    "\n",
    "'''define the range of the log files you want to plot'''\n",
    "from_= 0\n",
    "to = 20\n",
    "\n",
    "'''define what to plot: episodes before solving the envirnoment or the reward range '''\n",
    "what_to_plot= 'reward' #'reward'"
   ]
  },
  {
   "cell_type": "code",
   "execution_count": 19,
   "metadata": {},
   "outputs": [],
   "source": [
    "class Boxplot:\n",
    "    def __init__(self):\n",
    "       self.max = -75\n",
    "       self.random = -500\n",
    "       self.data = []\n",
    "\n",
    "    def create_plot(self):\n",
    "       self.read_logs(\"../scripts/storage/DQN_logs\" + '/' + env_name + '/' +\n",
    "                      env_name + '_greedy' + '/', from_, to, what_to_plot)\n",
    "       self.read_logs(\"../scripts/storage/DQN_logs\" + '/' + env_name + '/' +\n",
    "                      env_name + '_epsilon_greedy' + '/', from_, to, what_to_plot)\n",
    "       self.read_logs(\"../scripts/storage/DQN_logs\" + '/' + env_name + '/' +\n",
    "                      env_name + '_MixIn' + '/', from_, to, what_to_plot)\n",
    "       self.read_logs(\"../scripts/storage/DQN_logs\" + '/' + env_name + '/' +\n",
    "                      env_name + '_GBRS' + '/', from_, to, what_to_plot)\n",
    "       self.read_logs(\"../scripts/storage/DQN_logs\" + '/' + env_name + '/' +\n",
    "                      env_name + '_PBRS' + '/', from_, to, what_to_plot)\n",
    "       self.read_logs(\"../scripts/storage/DQN_logs\" + '/' + env_name + '/' +\n",
    "                      env_name + '_DPBRS' + '/', from_, to, what_to_plot)\n",
    "       self.read_logs(\"../scripts/storage/DQN_logs\" + '/' + env_name + '/' +\n",
    "                      env_name + '_ICM' + '/', from_, to, what_to_plot)\n",
    "       self.plot()\n",
    "\n",
    "    def create_plot_LL(self):\n",
    "        self.read_logs(\"../scripts/storage/DQN_logs\" + '/' + env_name + '/' +\n",
    "                       env_name + '_greedy' + '/', from_, to, what_to_plot)\n",
    "        self.read_logs(\"../scripts/storage/DQN_logs\" + '/' + env_name + '/' +\n",
    "                       env_name + '_epsilon_greedy' + '/', from_, to, what_to_plot)\n",
    "        self.read_logs(\"../scripts/storage/DQN_logs\" + '/' + env_name + '/' +\n",
    "                       env_name + '_MixIn' + '/', from_, to, what_to_plot)\n",
    "        self.read_logs(\"../scripts/storage/DQN_logs\" + '/' + env_name + '/' +\n",
    "                       env_name + '_GBRS' + '/', from_, to, what_to_plot)\n",
    "        self.read_logs(\"../scripts/storage/DQN_logs\" + '/' + env_name + '/' +\n",
    "                       env_name + '_DPBRS' + '/', from_, to, what_to_plot)\n",
    "        self.read_logs(\"../scripts/storage/DQN_logs\" + '/' + env_name + '/' +\n",
    "                       env_name + '_ICM' + '/', from_, to, what_to_plot)\n",
    "        self.plot()\n",
    "\n",
    "    def read_logs(self, path, a, b, name):\n",
    "\n",
    "       log_dir = path\n",
    "       all_runs = []\n",
    "\n",
    "       for run_num in range(a, b):\n",
    "           log_f_name = log_dir + '/DQN_' + env_name + \\\n",
    "               \"_log_\" + str(run_num) + \".csv\"\n",
    "\n",
    "           data_for_list = pd.read_csv(log_f_name)\n",
    "           data_for_list = pd.DataFrame(data_for_list)\n",
    "           #print(\"data shape : \", data_for_list.shape)\n",
    "           all_runs.append(data_for_list)\n",
    "\n",
    "       df_concat = pd.concat(all_runs)\n",
    "       df_concat_groupby = df_concat.groupby(df_concat.index)\n",
    "       data_avg = df_concat_groupby.mean()\n",
    "\n",
    "       data_for_boxplot = []\n",
    "       data_to_plot = data_avg[name].tolist()\n",
    "\n",
    "       for value in data_to_plot:\n",
    "           data_for_boxplot.append(value)\n",
    "       self.data.append(data_for_boxplot)\n",
    "\n",
    "    def plot(self):\n",
    "        plt.boxplot(self.data, showfliers=False)  # showmeans=True\n",
    "\n",
    "        if env_name == 'LunarLander-v2':\n",
    "            plt.xticks([1, 2, 3, 4, 5, 6], [\"greedy\", \"eps_greedy\",\n",
    "                                            \"MixIn\", \"GBRS\", \"DPBRS\", \"ICM\"])\n",
    "        else:\n",
    "            plt.xticks([1, 2, 3, 4, 5, 6, 7], [\"greedy\", \"eps_greedy\",\n",
    "                                               \"MixIn\", \"GBRS\", \"PBRS\", \"DPBRS\", \"ICM\"])\n",
    "        plt.title(env_name)\n",
    "        plt.xlabel(\"Training Method\")\n",
    "        if what_to_plot == \"episode\":\n",
    "            plt.ylabel(\"Mean Episodes before Solve\")\n",
    "        else:\n",
    "            plt.ylabel(\"Mean Reward\")\n",
    "\n",
    "        plt.axhline(self.max, color=\"limegreen\",\n",
    "                    linestyle=\"--\", lw=1, label=\"max reward\")\n",
    "        plt.axhline(self.random, color=\"dodgerblue\",\n",
    "                    linestyle=\"--\", lw=1, label=\"min reward\")\n",
    "        plt.legend(loc=5)\n",
    "        plt.show()\n"
   ]
  },
  {
   "cell_type": "markdown",
   "metadata": {},
   "source": []
  },
  {
   "cell_type": "code",
   "execution_count": 20,
   "metadata": {},
   "outputs": [
    {
     "data": {
      "image/png": "[encoded data removed]",
      "text/plain": [
       "<Figure size 432x288 with 1 Axes>"
      ]
     },
     "metadata": {
      "needs_background": "light"
     },
     "output_type": "display_data"
    }
   ],
   "source": [
    "if __name__ == '__main__':\n",
    "\n",
    "    plot = Boxplot()\n",
    "    if env_name == 'LunarLander-v2':\n",
    "        plot.create_plot_LL()\n",
    "    else:\n",
    "        plot.create_plot()\n"
   ]
  }
 ],
 "metadata": {
  "interpreter": {
   "hash": "40d3a090f54c6569ab1632332b64b2c03c39dcf918b08424e98f38b5ae0af88f"
  },
  "kernelspec": {
   "display_name": "Python 3.8.8 64-bit ('base': conda)",
   "name": "python3"
  },
  "language_info": {
   "codemirror_mode": {
    "name": "ipython",
    "version": 3
   },
   "file_extension": ".py",
   "mimetype": "text/x-python",
   "name": "python",
   "nbconvert_exporter": "python",
   "pygments_lexer": "ipython3",
   "version": "3.8.8"
  },
  "orig_nbformat": 4
 },
 "nbformat": 4,
 "nbformat_minor": 2
}
